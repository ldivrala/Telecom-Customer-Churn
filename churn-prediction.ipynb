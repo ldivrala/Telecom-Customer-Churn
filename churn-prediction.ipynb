{
 "cells": [
  {
   "cell_type": "code",
   "execution_count": 251,
   "id": "d20fcce7",
   "metadata": {},
   "outputs": [],
   "source": [
    "import pandas as pd\n",
    "from sklearn.metrics import confusion_matrix, classification_report, accuracy_score\n",
    "from sklearn.tree import DecisionTreeClassifier\n",
    "from sklearn.model_selection import train_test_split\n",
    "from imblearn.combine import SMOTEENN\n",
    "from sklearn.preprocessing import StandardScaler\n",
    "from imblearn.over_sampling import SMOTE "
   ]
  },
  {
   "cell_type": "code",
   "execution_count": 330,
   "id": "a9dd1b63",
   "metadata": {},
   "outputs": [
    {
     "data": {
      "text/html": [
       "<div>\n",
       "<style scoped>\n",
       "    .dataframe tbody tr th:only-of-type {\n",
       "        vertical-align: middle;\n",
       "    }\n",
       "\n",
       "    .dataframe tbody tr th {\n",
       "        vertical-align: top;\n",
       "    }\n",
       "\n",
       "    .dataframe thead th {\n",
       "        text-align: right;\n",
       "    }\n",
       "</style>\n",
       "<table border=\"1\" class=\"dataframe\">\n",
       "  <thead>\n",
       "    <tr style=\"text-align: right;\">\n",
       "      <th></th>\n",
       "      <th>gender</th>\n",
       "      <th>SeniorCitizen</th>\n",
       "      <th>Partner</th>\n",
       "      <th>Dependents</th>\n",
       "      <th>PhoneService</th>\n",
       "      <th>PaperlessBilling</th>\n",
       "      <th>MonthlyCharges</th>\n",
       "      <th>TotalCharges</th>\n",
       "      <th>Churn</th>\n",
       "      <th>MultipleLines_0</th>\n",
       "      <th>...</th>\n",
       "      <th>PaymentMethod_0</th>\n",
       "      <th>PaymentMethod_1</th>\n",
       "      <th>PaymentMethod_2</th>\n",
       "      <th>PaymentMethod_3</th>\n",
       "      <th>tenure_group_0</th>\n",
       "      <th>tenure_group_1</th>\n",
       "      <th>tenure_group_2</th>\n",
       "      <th>tenure_group_3</th>\n",
       "      <th>tenure_group_4</th>\n",
       "      <th>tenure_group_5</th>\n",
       "    </tr>\n",
       "  </thead>\n",
       "  <tbody>\n",
       "    <tr>\n",
       "      <th>0</th>\n",
       "      <td>0</td>\n",
       "      <td>0</td>\n",
       "      <td>1</td>\n",
       "      <td>0</td>\n",
       "      <td>0</td>\n",
       "      <td>1</td>\n",
       "      <td>29.85</td>\n",
       "      <td>29.85</td>\n",
       "      <td>0</td>\n",
       "      <td>0</td>\n",
       "      <td>...</td>\n",
       "      <td>0</td>\n",
       "      <td>0</td>\n",
       "      <td>1</td>\n",
       "      <td>0</td>\n",
       "      <td>1</td>\n",
       "      <td>0</td>\n",
       "      <td>0</td>\n",
       "      <td>0</td>\n",
       "      <td>0</td>\n",
       "      <td>0</td>\n",
       "    </tr>\n",
       "    <tr>\n",
       "      <th>1</th>\n",
       "      <td>1</td>\n",
       "      <td>0</td>\n",
       "      <td>0</td>\n",
       "      <td>0</td>\n",
       "      <td>1</td>\n",
       "      <td>0</td>\n",
       "      <td>56.95</td>\n",
       "      <td>1889.50</td>\n",
       "      <td>0</td>\n",
       "      <td>1</td>\n",
       "      <td>...</td>\n",
       "      <td>0</td>\n",
       "      <td>0</td>\n",
       "      <td>0</td>\n",
       "      <td>1</td>\n",
       "      <td>0</td>\n",
       "      <td>0</td>\n",
       "      <td>1</td>\n",
       "      <td>0</td>\n",
       "      <td>0</td>\n",
       "      <td>0</td>\n",
       "    </tr>\n",
       "    <tr>\n",
       "      <th>2</th>\n",
       "      <td>1</td>\n",
       "      <td>0</td>\n",
       "      <td>0</td>\n",
       "      <td>0</td>\n",
       "      <td>1</td>\n",
       "      <td>1</td>\n",
       "      <td>53.85</td>\n",
       "      <td>108.15</td>\n",
       "      <td>1</td>\n",
       "      <td>1</td>\n",
       "      <td>...</td>\n",
       "      <td>0</td>\n",
       "      <td>0</td>\n",
       "      <td>0</td>\n",
       "      <td>1</td>\n",
       "      <td>1</td>\n",
       "      <td>0</td>\n",
       "      <td>0</td>\n",
       "      <td>0</td>\n",
       "      <td>0</td>\n",
       "      <td>0</td>\n",
       "    </tr>\n",
       "    <tr>\n",
       "      <th>3</th>\n",
       "      <td>1</td>\n",
       "      <td>0</td>\n",
       "      <td>0</td>\n",
       "      <td>0</td>\n",
       "      <td>0</td>\n",
       "      <td>0</td>\n",
       "      <td>42.30</td>\n",
       "      <td>1840.75</td>\n",
       "      <td>0</td>\n",
       "      <td>0</td>\n",
       "      <td>...</td>\n",
       "      <td>1</td>\n",
       "      <td>0</td>\n",
       "      <td>0</td>\n",
       "      <td>0</td>\n",
       "      <td>0</td>\n",
       "      <td>0</td>\n",
       "      <td>0</td>\n",
       "      <td>1</td>\n",
       "      <td>0</td>\n",
       "      <td>0</td>\n",
       "    </tr>\n",
       "    <tr>\n",
       "      <th>4</th>\n",
       "      <td>0</td>\n",
       "      <td>0</td>\n",
       "      <td>0</td>\n",
       "      <td>0</td>\n",
       "      <td>1</td>\n",
       "      <td>1</td>\n",
       "      <td>70.70</td>\n",
       "      <td>151.65</td>\n",
       "      <td>1</td>\n",
       "      <td>1</td>\n",
       "      <td>...</td>\n",
       "      <td>0</td>\n",
       "      <td>0</td>\n",
       "      <td>1</td>\n",
       "      <td>0</td>\n",
       "      <td>1</td>\n",
       "      <td>0</td>\n",
       "      <td>0</td>\n",
       "      <td>0</td>\n",
       "      <td>0</td>\n",
       "      <td>0</td>\n",
       "    </tr>\n",
       "  </tbody>\n",
       "</table>\n",
       "<p>5 rows × 46 columns</p>\n",
       "</div>"
      ],
      "text/plain": [
       "   gender  SeniorCitizen  Partner  Dependents  PhoneService  PaperlessBilling  \\\n",
       "0       0              0        1           0             0                 1   \n",
       "1       1              0        0           0             1                 0   \n",
       "2       1              0        0           0             1                 1   \n",
       "3       1              0        0           0             0                 0   \n",
       "4       0              0        0           0             1                 1   \n",
       "\n",
       "   MonthlyCharges  TotalCharges  Churn  MultipleLines_0  ...  PaymentMethod_0  \\\n",
       "0           29.85         29.85      0                0  ...                0   \n",
       "1           56.95       1889.50      0                1  ...                0   \n",
       "2           53.85        108.15      1                1  ...                0   \n",
       "3           42.30       1840.75      0                0  ...                1   \n",
       "4           70.70        151.65      1                1  ...                0   \n",
       "\n",
       "   PaymentMethod_1  PaymentMethod_2  PaymentMethod_3  tenure_group_0  \\\n",
       "0                0                1                0               1   \n",
       "1                0                0                1               0   \n",
       "2                0                0                1               1   \n",
       "3                0                0                0               0   \n",
       "4                0                1                0               1   \n",
       "\n",
       "   tenure_group_1  tenure_group_2  tenure_group_3  tenure_group_4  \\\n",
       "0               0               0               0               0   \n",
       "1               0               1               0               0   \n",
       "2               0               0               0               0   \n",
       "3               0               0               1               0   \n",
       "4               0               0               0               0   \n",
       "\n",
       "   tenure_group_5  \n",
       "0               0  \n",
       "1               0  \n",
       "2               0  \n",
       "3               0  \n",
       "4               0  \n",
       "\n",
       "[5 rows x 46 columns]"
      ]
     },
     "execution_count": 330,
     "metadata": {},
     "output_type": "execute_result"
    }
   ],
   "source": [
    "dataset = pd.read_csv(\"datasets/telco_clean_data.csv\")\n",
    "dataset.head()"
   ]
  },
  {
   "cell_type": "code",
   "execution_count": 331,
   "id": "7719d3a8",
   "metadata": {},
   "outputs": [],
   "source": [
    "Numerical_Columns = ['MonthlyCharges', 'TotalCharges']"
   ]
  },
  {
   "cell_type": "code",
   "execution_count": 332,
   "id": "49e01876",
   "metadata": {},
   "outputs": [],
   "source": [
    "X = dataset.drop(columns='Churn')\n",
    "Y = dataset.Churn"
   ]
  },
  {
   "cell_type": "code",
   "execution_count": 333,
   "id": "d26f3960",
   "metadata": {},
   "outputs": [],
   "source": [
    "# Train Test split\n",
    "X_train, X_test, y_train, y_test = train_test_split(X, Y, test_size = 0.2, random_state = 0)"
   ]
  },
  {
   "cell_type": "code",
   "execution_count": 334,
   "id": "4ac154c6",
   "metadata": {},
   "outputs": [
    {
     "name": "stderr",
     "output_type": "stream",
     "text": [
      "/home/lokendra/jupyter/environment/lib/python3.8/site-packages/pandas/core/indexing.py:1738: SettingWithCopyWarning: \n",
      "A value is trying to be set on a copy of a slice from a DataFrame.\n",
      "Try using .loc[row_indexer,col_indexer] = value instead\n",
      "\n",
      "See the caveats in the documentation: https://pandas.pydata.org/pandas-docs/stable/user_guide/indexing.html#returning-a-view-versus-a-copy\n",
      "  self._setitem_single_column(loc, value[:, i].tolist(), pi)\n"
     ]
    }
   ],
   "source": [
    "scaler = StandardScaler()\n",
    "scaler.fit(X_train[Numerical_Columns])\n",
    "X_train.loc[:, Numerical_Columns] = scaler.transform(X_train[Numerical_Columns])"
   ]
  },
  {
   "cell_type": "markdown",
   "id": "da7379b5",
   "metadata": {},
   "source": [
    "### Decision Tree"
   ]
  },
  {
   "cell_type": "code",
   "execution_count": 335,
   "id": "6eb05457",
   "metadata": {},
   "outputs": [
    {
     "data": {
      "text/plain": [
       "DecisionTreeClassifier()"
      ]
     },
     "execution_count": 335,
     "metadata": {},
     "output_type": "execute_result"
    }
   ],
   "source": [
    "model_dt = DecisionTreeClassifier()\n",
    "model_dt.fit(X_train, y_train)"
   ]
  },
  {
   "cell_type": "code",
   "execution_count": 336,
   "id": "3021299e",
   "metadata": {},
   "outputs": [
    {
     "name": "stderr",
     "output_type": "stream",
     "text": [
      "/home/lokendra/jupyter/environment/lib/python3.8/site-packages/pandas/core/indexing.py:1738: SettingWithCopyWarning: \n",
      "A value is trying to be set on a copy of a slice from a DataFrame.\n",
      "Try using .loc[row_indexer,col_indexer] = value instead\n",
      "\n",
      "See the caveats in the documentation: https://pandas.pydata.org/pandas-docs/stable/user_guide/indexing.html#returning-a-view-versus-a-copy\n",
      "  self._setitem_single_column(loc, value[:, i].tolist(), pi)\n"
     ]
    }
   ],
   "source": [
    "X_test.loc[:, Numerical_Columns] = scaler.transform(X_test[Numerical_Columns])\n",
    "y_pred = model_dt.predict(X_test)"
   ]
  },
  {
   "cell_type": "code",
   "execution_count": 337,
   "id": "97fe91be",
   "metadata": {},
   "outputs": [
    {
     "name": "stdout",
     "output_type": "stream",
     "text": [
      "              precision    recall  f1-score   support\n",
      "\n",
      "           0       0.82      0.80      0.81      1038\n",
      "           1       0.47      0.51      0.49       369\n",
      "\n",
      "    accuracy                           0.72      1407\n",
      "   macro avg       0.64      0.65      0.65      1407\n",
      "weighted avg       0.73      0.72      0.72      1407\n",
      "\n"
     ]
    }
   ],
   "source": [
    "print(classification_report(y_test, y_pred))"
   ]
  },
  {
   "cell_type": "markdown",
   "id": "0ff261f4",
   "metadata": {},
   "source": [
    "##### Down Sampling"
   ]
  },
  {
   "cell_type": "code",
   "execution_count": 338,
   "id": "9b40e279",
   "metadata": {},
   "outputs": [],
   "source": [
    "sm = SMOTEENN()\n",
    "X_resampled, Y_resampled = sm.fit_resample(X, Y)"
   ]
  },
  {
   "cell_type": "code",
   "execution_count": 339,
   "id": "b777bdc2",
   "metadata": {},
   "outputs": [],
   "source": [
    "# Train Test split\n",
    "Xr_train, Xr_test, yr_train, yr_test = train_test_split(X_resampled, Y_resampled, test_size = 0.2, random_state = 0)"
   ]
  },
  {
   "cell_type": "code",
   "execution_count": 340,
   "id": "e7350ceb",
   "metadata": {},
   "outputs": [
    {
     "name": "stderr",
     "output_type": "stream",
     "text": [
      "/home/lokendra/jupyter/environment/lib/python3.8/site-packages/pandas/core/indexing.py:1738: SettingWithCopyWarning: \n",
      "A value is trying to be set on a copy of a slice from a DataFrame.\n",
      "Try using .loc[row_indexer,col_indexer] = value instead\n",
      "\n",
      "See the caveats in the documentation: https://pandas.pydata.org/pandas-docs/stable/user_guide/indexing.html#returning-a-view-versus-a-copy\n",
      "  self._setitem_single_column(loc, value[:, i].tolist(), pi)\n"
     ]
    }
   ],
   "source": [
    "scaler_r = StandardScaler()\n",
    "scaler_r.fit(Xr_train[Numerical_Columns])\n",
    "Xr_train.loc[:, Numerical_Columns] = scaler_r.transform(Xr_train[Numerical_Columns])"
   ]
  },
  {
   "cell_type": "code",
   "execution_count": 341,
   "id": "2999b320",
   "metadata": {},
   "outputs": [
    {
     "data": {
      "text/plain": [
       "DecisionTreeClassifier()"
      ]
     },
     "execution_count": 341,
     "metadata": {},
     "output_type": "execute_result"
    }
   ],
   "source": [
    "model_dt_r = DecisionTreeClassifier()\n",
    "model_dt_r.fit(Xr_train, yr_train)"
   ]
  },
  {
   "cell_type": "code",
   "execution_count": 342,
   "id": "4e0eea1f",
   "metadata": {},
   "outputs": [
    {
     "name": "stderr",
     "output_type": "stream",
     "text": [
      "/home/lokendra/jupyter/environment/lib/python3.8/site-packages/pandas/core/indexing.py:1738: SettingWithCopyWarning: \n",
      "A value is trying to be set on a copy of a slice from a DataFrame.\n",
      "Try using .loc[row_indexer,col_indexer] = value instead\n",
      "\n",
      "See the caveats in the documentation: https://pandas.pydata.org/pandas-docs/stable/user_guide/indexing.html#returning-a-view-versus-a-copy\n",
      "  self._setitem_single_column(loc, value[:, i].tolist(), pi)\n"
     ]
    }
   ],
   "source": [
    "Xr_test.loc[:, Numerical_Columns] = scaler_r.transform(Xr_test[Numerical_Columns])\n",
    "yr_pred = model_dt_r.predict(Xr_test)"
   ]
  },
  {
   "cell_type": "code",
   "execution_count": 343,
   "id": "ae713945",
   "metadata": {},
   "outputs": [
    {
     "name": "stdout",
     "output_type": "stream",
     "text": [
      "              precision    recall  f1-score   support\n",
      "\n",
      "           0       0.92      0.93      0.92       531\n",
      "           1       0.94      0.93      0.94       641\n",
      "\n",
      "    accuracy                           0.93      1172\n",
      "   macro avg       0.93      0.93      0.93      1172\n",
      "weighted avg       0.93      0.93      0.93      1172\n",
      "\n"
     ]
    }
   ],
   "source": [
    "print(classification_report(yr_test, yr_pred))"
   ]
  },
  {
   "cell_type": "markdown",
   "id": "8de29aca",
   "metadata": {},
   "source": [
    "### Random Forest Classifier"
   ]
  },
  {
   "cell_type": "code",
   "execution_count": 345,
   "id": "661f7c7c",
   "metadata": {},
   "outputs": [],
   "source": [
    "from sklearn.ensemble import RandomForestClassifier\n",
    "model_rf=RandomForestClassifier()"
   ]
  },
  {
   "cell_type": "code",
   "execution_count": 346,
   "id": "6f671a05",
   "metadata": {},
   "outputs": [
    {
     "data": {
      "text/plain": [
       "RandomForestClassifier()"
      ]
     },
     "execution_count": 346,
     "metadata": {},
     "output_type": "execute_result"
    }
   ],
   "source": [
    "model_rf.fit(X_train,y_train)"
   ]
  },
  {
   "cell_type": "code",
   "execution_count": 347,
   "id": "e9dc4722",
   "metadata": {},
   "outputs": [],
   "source": [
    "y_pred=model_rf.predict(X_test)"
   ]
  },
  {
   "cell_type": "code",
   "execution_count": 348,
   "id": "a0c7e4f8",
   "metadata": {},
   "outputs": [
    {
     "name": "stdout",
     "output_type": "stream",
     "text": [
      "              precision    recall  f1-score   support\n",
      "\n",
      "           0       0.83      0.90      0.86      1038\n",
      "           1       0.64      0.48      0.54       369\n",
      "\n",
      "    accuracy                           0.79      1407\n",
      "   macro avg       0.73      0.69      0.70      1407\n",
      "weighted avg       0.78      0.79      0.78      1407\n",
      "\n"
     ]
    }
   ],
   "source": [
    "print(classification_report(y_test, y_pred))"
   ]
  },
  {
   "cell_type": "code",
   "execution_count": null,
   "id": "eace7d9d",
   "metadata": {},
   "outputs": [],
   "source": []
  },
  {
   "cell_type": "code",
   "execution_count": 351,
   "id": "354bfb49",
   "metadata": {},
   "outputs": [],
   "source": [
    "sm = SMOTEENN()\n",
    "X_resampled1, y_resampled1 = sm.fit_resample(X,Y)"
   ]
  },
  {
   "cell_type": "code",
   "execution_count": 352,
   "id": "9ba5ac22",
   "metadata": {},
   "outputs": [],
   "source": [
    "Xr_train1,Xr_test1,yr_train1, yr_test1=train_test_split(X_resampled1, y_resampled1,test_size=0.2)"
   ]
  },
  {
   "cell_type": "code",
   "execution_count": 353,
   "id": "afaf3e7a",
   "metadata": {},
   "outputs": [],
   "source": [
    "model_rf_smote =RandomForestClassifier()"
   ]
  },
  {
   "cell_type": "code",
   "execution_count": 354,
   "id": "4afff7d6",
   "metadata": {},
   "outputs": [
    {
     "data": {
      "text/plain": [
       "RandomForestClassifier()"
      ]
     },
     "execution_count": 354,
     "metadata": {},
     "output_type": "execute_result"
    }
   ],
   "source": [
    "model_rf_smote.fit(Xr_train1, yr_train1)"
   ]
  },
  {
   "cell_type": "code",
   "execution_count": 355,
   "id": "4e38e88b",
   "metadata": {},
   "outputs": [],
   "source": [
    "yr_predict1 = model_rf_smote.predict(Xr_test1)"
   ]
  },
  {
   "cell_type": "code",
   "execution_count": 356,
   "id": "970e434e",
   "metadata": {},
   "outputs": [
    {
     "name": "stdout",
     "output_type": "stream",
     "text": [
      "              precision    recall  f1-score   support\n",
      "\n",
      "           0       0.97      0.94      0.95       525\n",
      "           1       0.95      0.98      0.96       644\n",
      "\n",
      "    accuracy                           0.96      1169\n",
      "   macro avg       0.96      0.96      0.96      1169\n",
      "weighted avg       0.96      0.96      0.96      1169\n",
      "\n"
     ]
    }
   ],
   "source": [
    "print(classification_report(yr_test1, yr_predict1))"
   ]
  },
  {
   "cell_type": "code",
   "execution_count": null,
   "id": "b1f32a5c",
   "metadata": {},
   "outputs": [],
   "source": []
  },
  {
   "cell_type": "code",
   "execution_count": 361,
   "id": "5a2d52e8",
   "metadata": {},
   "outputs": [],
   "source": [
    "from tensorflow import keras"
   ]
  },
  {
   "cell_type": "code",
   "execution_count": 362,
   "id": "1ca8431d",
   "metadata": {},
   "outputs": [],
   "source": [
    "model_nn = keras.Sequential([\n",
    "                                  keras.layers.Dense(3),\n",
    "                                  keras.layers.Dense(3),\n",
    "                                  keras.layers.Dense(1),\n",
    "                                  keras.layers.Activation(\"sigmoid\")\n",
    "])"
   ]
  },
  {
   "cell_type": "code",
   "execution_count": 363,
   "id": "9f8c2ed9",
   "metadata": {},
   "outputs": [],
   "source": [
    "model_nn.compile(optimizer=\"adam\", loss=\"binary_crossentropy\", metrics=[\"acc\"])"
   ]
  },
  {
   "cell_type": "code",
   "execution_count": 364,
   "id": "6be4cdd9",
   "metadata": {},
   "outputs": [
    {
     "name": "stdout",
     "output_type": "stream",
     "text": [
      "Epoch 1/40\n",
      "176/176 [==============================] - 1s 2ms/step - loss: 0.6150 - acc: 0.6489\n",
      "Epoch 2/40\n",
      "176/176 [==============================] - 0s 2ms/step - loss: 0.4585 - acc: 0.7820\n",
      "Epoch 3/40\n",
      "176/176 [==============================] - 0s 2ms/step - loss: 0.4340 - acc: 0.7931\n",
      "Epoch 4/40\n",
      "176/176 [==============================] - 0s 2ms/step - loss: 0.4271 - acc: 0.7986\n",
      "Epoch 5/40\n",
      "176/176 [==============================] - 0s 2ms/step - loss: 0.4228 - acc: 0.8002\n",
      "Epoch 6/40\n",
      "176/176 [==============================] - 0s 2ms/step - loss: 0.4205 - acc: 0.8009\n",
      "Epoch 7/40\n",
      "176/176 [==============================] - 0s 2ms/step - loss: 0.4191 - acc: 0.8034\n",
      "Epoch 8/40\n",
      "176/176 [==============================] - 0s 2ms/step - loss: 0.4178 - acc: 0.8023\n",
      "Epoch 9/40\n",
      "176/176 [==============================] - 0s 2ms/step - loss: 0.4178 - acc: 0.8055\n",
      "Epoch 10/40\n",
      "176/176 [==============================] - 0s 2ms/step - loss: 0.4172 - acc: 0.8025\n",
      "Epoch 11/40\n",
      "176/176 [==============================] - 0s 2ms/step - loss: 0.4171 - acc: 0.8039\n",
      "Epoch 12/40\n",
      "176/176 [==============================] - 0s 2ms/step - loss: 0.4163 - acc: 0.8046\n",
      "Epoch 13/40\n",
      "176/176 [==============================] - 0s 2ms/step - loss: 0.4166 - acc: 0.8014\n",
      "Epoch 14/40\n",
      "176/176 [==============================] - 0s 2ms/step - loss: 0.4162 - acc: 0.8046\n",
      "Epoch 15/40\n",
      "176/176 [==============================] - 0s 2ms/step - loss: 0.4164 - acc: 0.8018\n",
      "Epoch 16/40\n",
      "176/176 [==============================] - 0s 2ms/step - loss: 0.4158 - acc: 0.8011\n",
      "Epoch 17/40\n",
      "176/176 [==============================] - 0s 2ms/step - loss: 0.4158 - acc: 0.8025\n",
      "Epoch 18/40\n",
      "176/176 [==============================] - 0s 2ms/step - loss: 0.4162 - acc: 0.8039\n",
      "Epoch 19/40\n",
      "176/176 [==============================] - 0s 2ms/step - loss: 0.4162 - acc: 0.8027\n",
      "Epoch 20/40\n",
      "176/176 [==============================] - 0s 2ms/step - loss: 0.4162 - acc: 0.8046\n",
      "Epoch 21/40\n",
      "176/176 [==============================] - 0s 2ms/step - loss: 0.4160 - acc: 0.8048\n",
      "Epoch 22/40\n",
      "176/176 [==============================] - 0s 2ms/step - loss: 0.4161 - acc: 0.8037\n",
      "Epoch 23/40\n",
      "176/176 [==============================] - 0s 2ms/step - loss: 0.4159 - acc: 0.8036\n",
      "Epoch 24/40\n",
      "176/176 [==============================] - 0s 2ms/step - loss: 0.4159 - acc: 0.8043\n",
      "Epoch 25/40\n",
      "176/176 [==============================] - 0s 2ms/step - loss: 0.4161 - acc: 0.8034\n",
      "Epoch 26/40\n",
      "176/176 [==============================] - 0s 2ms/step - loss: 0.4161 - acc: 0.8046\n",
      "Epoch 27/40\n",
      "176/176 [==============================] - 0s 2ms/step - loss: 0.4159 - acc: 0.8034\n",
      "Epoch 28/40\n",
      "176/176 [==============================] - 0s 2ms/step - loss: 0.4158 - acc: 0.8043\n",
      "Epoch 29/40\n",
      "176/176 [==============================] - 0s 2ms/step - loss: 0.4164 - acc: 0.8050\n",
      "Epoch 30/40\n",
      "176/176 [==============================] - 0s 2ms/step - loss: 0.4160 - acc: 0.8057\n",
      "Epoch 31/40\n",
      "176/176 [==============================] - 0s 2ms/step - loss: 0.4160 - acc: 0.8043\n",
      "Epoch 32/40\n",
      "176/176 [==============================] - 0s 2ms/step - loss: 0.4159 - acc: 0.8052\n",
      "Epoch 33/40\n",
      "176/176 [==============================] - 0s 2ms/step - loss: 0.4160 - acc: 0.8046\n",
      "Epoch 34/40\n",
      "176/176 [==============================] - 0s 2ms/step - loss: 0.4158 - acc: 0.8041\n",
      "Epoch 35/40\n",
      "176/176 [==============================] - 0s 2ms/step - loss: 0.4159 - acc: 0.8032\n",
      "Epoch 36/40\n",
      "176/176 [==============================] - 0s 2ms/step - loss: 0.4161 - acc: 0.8018\n",
      "Epoch 37/40\n",
      "176/176 [==============================] - 0s 2ms/step - loss: 0.4157 - acc: 0.8036\n",
      "Epoch 38/40\n",
      "176/176 [==============================] - 0s 2ms/step - loss: 0.4161 - acc: 0.8034\n",
      "Epoch 39/40\n",
      "176/176 [==============================] - 0s 2ms/step - loss: 0.4158 - acc: 0.8028\n",
      "Epoch 40/40\n",
      "176/176 [==============================] - 0s 2ms/step - loss: 0.4160 - acc: 0.8032\n"
     ]
    },
    {
     "data": {
      "text/plain": [
       "<keras.callbacks.History at 0x7f31bc12fe80>"
      ]
     },
     "execution_count": 364,
     "metadata": {},
     "output_type": "execute_result"
    }
   ],
   "source": [
    "model_nn.fit(X_train, y_train, epochs=40)"
   ]
  },
  {
   "cell_type": "code",
   "execution_count": 369,
   "id": "2e125e77",
   "metadata": {},
   "outputs": [],
   "source": [
    "y_pred = (classifier_nn(X_test.to_numpy()) > 0.5)"
   ]
  },
  {
   "cell_type": "code",
   "execution_count": 370,
   "id": "2178e5af",
   "metadata": {},
   "outputs": [
    {
     "name": "stdout",
     "output_type": "stream",
     "text": [
      "              precision    recall  f1-score   support\n",
      "\n",
      "           0       0.83      0.92      0.87      1038\n",
      "           1       0.67      0.48      0.56       369\n",
      "\n",
      "    accuracy                           0.80      1407\n",
      "   macro avg       0.75      0.70      0.72      1407\n",
      "weighted avg       0.79      0.80      0.79      1407\n",
      "\n"
     ]
    }
   ],
   "source": [
    "print(classification_report(y_test, y_pred))"
   ]
  },
  {
   "cell_type": "markdown",
   "id": "4cae3c6b",
   "metadata": {},
   "source": [
    "#### Save random forest model"
   ]
  },
  {
   "cell_type": "code",
   "execution_count": 380,
   "id": "9d60ef16",
   "metadata": {},
   "outputs": [],
   "source": [
    "import pickle"
   ]
  },
  {
   "cell_type": "code",
   "execution_count": 381,
   "id": "e7afe359",
   "metadata": {},
   "outputs": [],
   "source": [
    "filename = 'model.sav'\n"
   ]
  },
  {
   "cell_type": "code",
   "execution_count": 382,
   "id": "cda88f92",
   "metadata": {},
   "outputs": [],
   "source": [
    "pickle.dump(model_rf, open(filename, 'wb'))"
   ]
  },
  {
   "cell_type": "code",
   "execution_count": 383,
   "id": "b41b389a",
   "metadata": {},
   "outputs": [],
   "source": [
    "load_model = pickle.load(open(filename, 'rb'))"
   ]
  },
  {
   "cell_type": "code",
   "execution_count": 384,
   "id": "c551a3b5",
   "metadata": {},
   "outputs": [
    {
     "data": {
      "text/plain": [
       "0.7910447761194029"
      ]
     },
     "execution_count": 384,
     "metadata": {},
     "output_type": "execute_result"
    }
   ],
   "source": [
    "model_score_r1 = load_model.score(X_test, y_test)\n",
    "model_score_r1"
   ]
  },
  {
   "cell_type": "code",
   "execution_count": null,
   "id": "6e4c6481",
   "metadata": {},
   "outputs": [],
   "source": []
  }
 ],
 "metadata": {
  "kernelspec": {
   "display_name": "Python 3",
   "language": "python",
   "name": "python3"
  },
  "language_info": {
   "codemirror_mode": {
    "name": "ipython",
    "version": 3
   },
   "file_extension": ".py",
   "mimetype": "text/x-python",
   "name": "python",
   "nbconvert_exporter": "python",
   "pygments_lexer": "ipython3",
   "version": "3.8.10"
  }
 },
 "nbformat": 4,
 "nbformat_minor": 5
}
